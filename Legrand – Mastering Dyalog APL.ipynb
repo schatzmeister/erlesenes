{
 "cells": [
  {
   "cell_type": "markdown",
   "metadata": {},
   "source": [
    "# Bernard Legrand: Mastering Dyalog APL\n",
    "\n",
    "## Chapters A–D\n",
    "\n",
    "Diese Kapitel (_Getting Started, Data and Variables, Some Primitive Functions_ und _User Defined Functions_) sind nicht Teil dieses Dokuments. Die Kapitel sind zu diesem Zeitpunkt bereits Teil der Jupyter-Notebooks, das unter https://rojergs.github.io/MDAPL/README.html zu finden ist. Ich habe sie dementsprechend in meinem lokalen Klon des Repositories gelesen und bearbeitet.\n",
    "\n",
    "Ich glaube nicht, dass es so schlimm ist, wenn diese Kapitel fehlen, weil zum Großteil grundlegende Dinge dort behandelt werden, die ich nicht unbedingt festhalten muss, um sie auf Abruf zu haben – es könnten allerdings sein, dass ich einige spezielle Dinge vergessen habe, die dann an dieser Stelle nicht auftauchen."
   ]
  },
  {
   "cell_type": "markdown",
   "metadata": {},
   "source": [
    "## Chapter E: First Aid Kit\n",
    "\n",
    "Dieses Kapitel ist fast ausschließlich auf die Dyalog-IDE bezogen und hilft mir als Notebook-Nutzer nur wenig. Möglicherweise bereue ich noch, Systemvariablen und Ähnliches nicht notiert zu haben, aber aktuell erscheint mir das Kapitel nicht so relevant zu sein."
   ]
  },
  {
   "cell_type": "markdown",
   "metadata": {},
   "source": [
    "## Chapter F: Execute & Format Control\n",
    "\n",
    "* Mit `⍎` lassen sich zwar Strings in Zahlen umwandeln, aber zu bevorzugen ist die Systemfunktion `⎕VFI` (*Verify and Fix Input*), da sie schneller und sicherer ist.\n",
    "* Dyadisches `⍕` kann genutzt werden, um Anzahl der Stellen und Dezimalstellen anzugeben. Im Zweifel wird gerundet, nicht trunkiert. Reicht die Präzision nicht aus, werden statt der Zahl Sterne ausgegeben. Besteht `⍺` nur aus einer Zahl, bestimmt sie die Anzahl der Nachkommastellen.\n",
    "* Komplexere Ausgaben sollten mit `⎕FMT` formatiert werden, das mehr Freiheiten erlaubt."
   ]
  },
  {
   "cell_type": "code",
   "execution_count": 16,
   "metadata": {},
   "outputs": [
    {
     "data": {
      "text/html": [
       "<span style=\"white-space:pre; font-family: monospace\">15232.24\n",
       "</span>"
      ]
     },
     "execution_count": 16,
     "metadata": {},
     "output_type": "execute_result"
    },
    {
     "data": {
      "text/html": [
       "<span style=\"white-space:pre; font-family: monospace\">****\n",
       "</span>"
      ]
     },
     "execution_count": 16,
     "metadata": {},
     "output_type": "execute_result"
    },
    {
     "data": {
      "text/html": [
       "<span style=\"white-space:pre; font-family: monospace\"> 12.23 1.00\n",
       "</span>"
      ]
     },
     "execution_count": 16,
     "metadata": {},
     "output_type": "execute_result"
    }
   ],
   "source": [
    "8 2 ⍕ 15232.235\n",
    "4 0 ⍕ 12345\n",
    "2 ⍕ 12.234 1.0"
   ]
  },
  {
   "cell_type": "markdown",
   "metadata": {},
   "source": [
    "## Chapter G: Working on Data Shape\n",
    "\n",
    "* *Overtaking*: Wird `↑` auf einem Vektor mit `(|⍺)>≢⍵` aufgerufen, wird mit *fill items* (i.e. `0` oder `' '`) aufgefüllt.\n",
    "* *Take* und *Drop* funktionieren auch auf Arrays höherer Stufe, wenn ausreichend Werte übergeben werden. Die Funktionen arbeiten „von einer Ecke aus“ in alle Richtungen; welche Ecke entscheiden die Vorzeichen.\n",
    "* Der Rang-Operator `[N]` kann genutzt werden, um alle Einträge in nicht benannten Dimensionen auszuwählen.\n",
    "* Dyadisches `⍉` kann verwendet werden, um die Achsen eines higher-rank-Arrays umzuordnen; dabei ist `⍺` eine Permutation von `⍳≢⍴⍵`. Alternativ können auch Achsen mehrfach vorkommen (solange die Länge gleich bleibt); dann wird eine Diagonale ausgewählt und der Rang des Arrays verringert sich."
   ]
  },
  {
   "cell_type": "code",
   "execution_count": 128,
   "metadata": {},
   "outputs": [],
   "source": [
    "⍝ Exercises G-3:\n",
    "showVowels ← {⍵,[.5]' ↑'[1+⍵∊'aeiou']}\n",
    "⍝ Exercise G-4:\n",
    "contraction ← ⍴{⍺,((0≠⍵)/⍵),[.5]⍸0≠⍵},\n",
    "⍝ restore ⍝ Use \\ with the position differences\n",
    "⍝ Exercise G-6:\n",
    "ontop ← {cols←(2⊃⍴⍵)⋄⍵⍪⍨(-⌈2÷⍨cols-≢⍺)⌽cols↑⍺}\n",
    "⍝ Exercise G-7 (I won’t do this by hand):\n",
    "⍝ ¯3 ¯1 3⌽(-2 1 0 1 0 2 1 2 0)⊖ 3 9⍴'oeornlhtu n siduothf uogYti'"
   ]
  },
  {
   "cell_type": "markdown",
   "metadata": {},
   "source": [
    "## Chapter H: Special Syntax"
   ]
  },
  {
   "cell_type": "code",
   "execution_count": 8,
   "metadata": {},
   "outputs": [
    {
     "data": {
      "text/html": [
       "<span style=\"white-space:pre; font-family: monospace\">1 6 3\n",
       "</span>"
      ]
     },
     "execution_count": 8,
     "metadata": {},
     "output_type": "execute_result"
    },
    {
     "data": {
      "text/html": [
       "<span style=\"white-space:pre; font-family: monospace\">10 20 3\n",
       "</span>"
      ]
     },
     "execution_count": 8,
     "metadata": {},
     "output_type": "execute_result"
    }
   ],
   "source": [
    "⍝ Modified assignment funktioniert natürlich auch mit eigenen Funktionen:\n",
    "numArr ← 1 2 3\n",
    "numArr[2] {2×⍵+⍺}← 1\n",
    "numArr\n",
    "⍝ Mit *selective assignment* wird ein Teil der lhs für die Zuordnung ausgewählt.\n",
    "⍝ Dies geht für die folgenden Primitive: ⍴ / ⌿ ↑ ↓ , ⌽ ⊖ ⍉ ⊃ \\ ⍀ ⌷\n",
    "⍝ Um es zu tun, parenthesiere die lhs.\n",
    "(2↑numArr) ← 10 20\n",
    "numArr"
   ]
  },
  {
   "cell_type": "markdown",
   "metadata": {},
   "source": [
    "# Chapter I: Nested Arrays (Continued)\n",
    "\n"
   ]
  },
  {
   "cell_type": "markdown",
   "metadata": {},
   "source": [
    "* *Fill items* sind immer gleich dem *Prototypen* des ersten Elements; der Prototyp ist gleich dem Element, wobei alle Zahlen durch `0` und alle Characters durch `' '` ersetzt werden, egal, wo sie vorkommen."
   ]
  },
  {
   "cell_type": "code",
   "execution_count": 29,
   "metadata": {},
   "outputs": [
    {
     "data": {
      "text/html": [
       "<span style=\"white-space:pre; font-family: monospace\">10 c\n",
       "</span>"
      ]
     },
     "execution_count": 29,
     "metadata": {},
     "output_type": "execute_result"
    },
    {
     "data": {
      "text/html": [
       "<span style=\"white-space:pre; font-family: monospace\">┌───┬───┬─┬─┐\n",
       "│1 2│3 4│5│6│\n",
       "└───┴───┴─┴─┘\n",
       "</span>"
      ]
     },
     "execution_count": 29,
     "metadata": {},
     "output_type": "execute_result"
    },
    {
     "data": {
      "text/html": [
       "<span style=\"white-space:pre; font-family: monospace\">3\n",
       "</span>"
      ]
     },
     "execution_count": 29,
     "metadata": {},
     "output_type": "execute_result"
    },
    {
     "data": {
      "text/html": [
       "<span style=\"white-space:pre; font-family: monospace\">┌───────┬─────┐\n",
       "│9 7 2 8│2 0 8│\n",
       "└───────┴─────┘\n",
       "</span>"
      ]
     },
     "execution_count": 29,
     "metadata": {},
     "output_type": "execute_result"
    },
    {
     "data": {
      "text/html": [
       "<span style=\"white-space:pre; font-family: monospace\">B\n",
       "</span>"
      ]
     },
     "execution_count": 29,
     "metadata": {},
     "output_type": "execute_result"
    }
   ],
   "source": [
    "⍝ Enclosing auf einem einfachen Skalar is eine no-op:\n",
    "(⊂ 10),⊂'c'\n",
    "⍝ , sucht fürs linke Argument bis zum nächsten Funktionssymbol. Ergo ist dies ein 4-elementiger Vektor:\n",
    "(1 2) (3 4),(5 6)\n",
    "⍝ ⊃ kann als linkes Argument einen Vektor nehmen, um tiefer ins Array 'vorzudringen':\n",
    "⍝ Es unterschiedet sich vom üblichen Indexing via `[ ]` dadurch, dass das Element disclosed wird.\n",
    "2 1 ⊃ (1 2) (3 4)\n",
    "⍝ Chipmunk idiom `⊃¨⊂`, um mehrere Selektionen zugleich durchzuführen:\n",
    "2 4⊃¨⊂(3 7 5)(9 7 2 8)(1 6)(2 0 8)\n",
    "⍝ In einen Scalar kann man mittels ⍬ picken:\n",
    "⍬ 2⊃⊂'ABC'"
   ]
  },
  {
   "cell_type": "markdown",
   "metadata": {},
   "source": [
    "## Chapter J: Operators\n",
    "\n",
    "### Mehr zu `/` und `[ ]`"
   ]
  },
  {
   "cell_type": "code",
   "execution_count": 62,
   "metadata": {},
   "outputs": [
    {
     "data": {
      "text/html": [
       "<span style=\"white-space:pre; font-family: monospace\">¯1 ¯2\n",
       "</span>"
      ]
     },
     "execution_count": 62,
     "metadata": {},
     "output_type": "execute_result"
    },
    {
     "data": {
      "text/html": [
       "<span style=\"white-space:pre; font-family: monospace\">0 0 0 0\n",
       "</span>"
      ]
     },
     "execution_count": 62,
     "metadata": {},
     "output_type": "execute_result"
    },
    {
     "data": {
      "text/html": [
       "<span style=\"white-space:pre; font-family: monospace\">1 2\n",
       "</span>"
      ]
     },
     "execution_count": 62,
     "metadata": {},
     "output_type": "execute_result"
    },
    {
     "data": {
      "text/html": [
       "<span style=\"white-space:pre; font-family: monospace\">11 12 13\n",
       "21 22 23\n",
       "</span>"
      ]
     },
     "execution_count": 62,
     "metadata": {},
     "output_type": "execute_result"
    }
   ],
   "source": [
    "⍝ `i f/ arr` nimmt Slices der Länge i von arr und reduziert jeden Slice:\n",
    "2 -/ 1 2 4\n",
    "⍝ `0 f/ arr` ergibt ein Array von f-neutralen Werten, um 1 länger als arr.\n",
    "⍝ Das erfüllt die allgemeine Formel: `⍴ (i f/ arr) ←→ (1+⍴ arr)-|i`\n",
    "⍝ Erklärung: Es werden Slices der Länge 0 reduziert (also erhält man leere Summen/Produkte/...).\n",
    "0 -/ 1 2 4\n",
    "⍝ Für i negativ, kehre jeden Slice um, bevor f angewandt wird:\n",
    "¯2 -/ 1 2 4\n",
    "⍝ Der Achsen-„Operator“ `[ ]` kann auch skalare dyadische Funktionen modifizieren:\n",
    "10 20 +[1] 1 2 3 +[2] 2 3⍴ 0"
   ]
  },
  {
   "cell_type": "markdown",
   "metadata": {},
   "source": [
    "### `\\` und `.`"
   ]
  },
  {
   "cell_type": "code",
   "execution_count": 55,
   "metadata": {},
   "outputs": [
    {
     "data": {
      "text/html": [
       "<span style=\"white-space:pre; font-family: monospace\">1 ¯1 3\n",
       "</span>"
      ]
     },
     "execution_count": 55,
     "metadata": {},
     "output_type": "execute_result"
    },
    {
     "data": {
      "text/html": [
       "<span style=\"white-space:pre; font-family: monospace\">1 2 3 4 5 6 7 8 9\n",
       "</span>"
      ]
     },
     "execution_count": 55,
     "metadata": {},
     "output_type": "execute_result"
    }
   ],
   "source": [
    "⍝ Jeder Slice beim Scan `\\` wird von rechts nach links ausgewertet;\n",
    "⍝ dies ist entscheidend für nicht-kommutative Funktionen:\n",
    "-\\ 1 2 4 ⍝ 1 - 2 - 4 ←→ 1 - ¯3\n",
    "\n",
    "⍝ Das innere Produkt liefert eine Reihe an Idiomen (mit f einer Boole-wertigen Funktion):\n",
    "⍝ ∧.f – gilt f für alle Einträge?\n",
    "⍝ ∨.f – gilt f für mindestens einen Eintrag?\n",
    "⍝ +.f – für wie viele Einträge gilt f?\n",
    "⍝ {⍵<.>1⌽⍵} – ist ⍵ aufsteigend sortiert? (Falls man nicht (⍋=⊢) nutzen will.)\n",
    "⍝ {⍺<.<⍵} – liegt ⍺ zwischen ⍵[1] und ⍵[2]? (Für 2=≢⍵)"
   ]
  },
  {
   "cell_type": "markdown",
   "metadata": {},
   "source": [
    "### `⍣` und `&`\n",
    "\n",
    "* Damit `⍣` Inversen berechnen kann, muss die Funktion eine primitive Funktion sein, deren Inverse APL bekannt ist, oder eine abgeleitete Funktion bestehend aus APL-invertierbaren Primitiven und den Operatoren `∘ ¨ ∘. ⍨ [] \\ ⍣`.\n",
    "* Bei der Suche nach einem Fixpunkt via `⍣≡` oder `⍣=` beachte die *Comparison Tolerance* `⎕CT`, ab der zwei Werte als gleich gelten.\n",
    "* `&`, *spawn*, lässt die abgeleitete Funktion in einem separaten Thread laufen. Das Ergebnis ist *nicht* der Rückgabewert der Funktion, sondern die Thread-ID (in Form eines shy Result). Sobald der Thread durchgelaufen ist, wird das Ergebnis geprintet. Um auf Threads zu warten, verwende `⎕TSYNC`.\n",
    "* `f&¨arr` wendet `f` auf jedes Element in `arr` and und spawnt dafür `≢arr` neue Threads. Analog für dyadisches `f`.\n",
    "* Spawn sollte in der Regel nicht für Primitive genutzt werden. (Sind sie bereits parallelisiert? Oder laufen alle Threads auf demselben Core? Dann wäre nicht echt parallelisiert und `&` verursacht nur Overhead.)"
   ]
  },
  {
   "cell_type": "markdown",
   "metadata": {},
   "source": [
    "## Chapter K: Mathematical Functions"
   ]
  },
  {
   "cell_type": "code",
   "execution_count": 84,
   "metadata": {},
   "outputs": [
    {
     "data": {
      "text/html": [
       "<span style=\"white-space:pre; font-family: monospace\">2.7008\n",
       "</span>"
      ]
     },
     "execution_count": 84,
     "metadata": {},
     "output_type": "execute_result"
    },
    {
     "data": {
      "text/html": [
       "<span style=\"white-space:pre; font-family: monospace\">9 8 3\n",
       "</span>"
      ]
     },
     "execution_count": 84,
     "metadata": {},
     "output_type": "execute_result"
    }
   ],
   "source": [
    "⍝ `⊥` kann genutzt werden, um Polynome zu auszuwerten.\n",
    "⍝ „Normal“ wäre:\n",
    "⍝   p ← Potenzen von x\n",
    "⍝   c ← Koeffizienten\n",
    "⍝   val ← Stelle, an der ausgewertet wird,\n",
    "⍝   result ← +/ c×val*p\n",
    "⍝ Enthält c jedoch die Koeffizienten für alle Potenzen (von höchster bis 0),\n",
    "⍝ ist alternativ auch die Verwendung von `⊥` möglich:\n",
    "1.2 ⊥ 3 0 2 ¯7 2\n",
    "⍝ Für negative Zahlen wird von `⊤` eine Variante des 2-Komplement genutzt:\n",
    "(3⍴10)⊤¯17 ⍝ 9 8 3 + 1 7 = 0 0 0\n",
    "\n",
    "⍝ `?` nutzt einen; der Seed kann über `⎕RL` („random link“) festgelegt werden.\n",
    "⍝ Über `⎕TS` („time stamp“) kann ein Seed einigermaßen zufällig festgelegt werden.\n",
    "\n",
    "⍝ `!` funktioniert auf beliebigen Zahlen via Gamma- (im monadischen Fall) und Beta-Funktion (im dyadischen Fall).\n",
    "\n",
    "⍝ `⍠` funtkioniert auf nicht-quadratischen Matrizen, gibt aber (natürlich) keine echte Inverse,\n",
    "⍝ sondern eine Linksinverse, die gleichzeitig eine pseudo-Rechtsinverse ist, will heißen, der quadratische Fehler\n",
    "⍝ ist minimal, in Formeln: für Inv←M ×.+ ⍠M ist `+/(Id-Inv)*2` minimal.\n",
    "⍝ Dieser Fakt kann genutzt werden, um quadratische Regression durchzuführen."
   ]
  },
  {
   "cell_type": "markdown",
   "metadata": {},
   "source": [
    "## Chapter L: System Interfaces\n",
    "\n",
    "* Es gib eine Reihe an Möglichkeiten mit dem System zu interagieren: *System Commands* starten mit einem `)` und sind keine Ausdrücke, sondern werden getrennt ausgewertet. *System Functions* und *System Variables* beginnen mit einem `⎕` und können innerhalb eines Ausdrucks verwendet werden. Systemvariable haben einen Defaultwert, der überschrieben und geshadowed werden kann. Gelegentlich gibt es ein Kommando und eine Funktion mit demselben Namen, die ähnliche (aber nicht zwingend gleiche) Funktionalität haben (üblicherweise ist das Kommando global, die Funktion lokal). Da es viele Systemschnittstellen gibt, werden sie hier nach Funktionalität gruppiert. (In den Notizen fehlen solche, die in anderen Kapiteln gesondert behandelt werden, und solche, die ich als nicht so wichtig erachte. Sie lassen sich alle in der Referenz nachschlagen.)\n",
    "* Workspace Management:\n",
    "    * `)COPY` lädt Namen aus einem Workspace, `)PCOPY` schützt vor Namenskonflikten\n",
    "    * `)LOAD` lädt einen Workspace und verwirft den aktuellen ohne Warnung.\n",
    "    * `)LIB` zeigt alle Workspaces an, die Dyalog bekannt sind.\n",
    "    * `)CLEAR` löscht alle Namen im Workspace.\n",
    "    * `)SAVE` speichert den aktuellen Workspace.\n",
    "    * `)WSID` zeigt den Namen des aktuellen Workspaces an.\n",
    "* Object Management:\n",
    "    * `)VARS`, `)FNS`, `)OPS` bzw. `)OBS` zeigt Variable, Funktionen, Operatoren bzw. Namespaces an. `⎕NL`, *name list* kann alles anzeigen, wenn man die Klasse als Argument übergibt (2 – Variable, 3 – Funktionen, …), `⎕NC` die Klasse eines Namens.\n",
    "    * `)ERASE` löscht Namen.\n",
    "* Environment Control & Information:\n",
    "    * `⎕TS`, *timestamp*, Vektor aus Jahr, Monat, …, Sekunde, Millisekunde.\n",
    "    * `⎕PP`, *print precision*, zwischen 1 und 17, default ist 10.\n",
    "    * `⎕IO`, *index origin*, 0 oder 1, default ist 1.\n",
    "* Function Definition and Processing:\n",
    "    * `⎕FX`, *fix*, definiert dynamisch eine neue Funktion mittels eines repräsentierenden Objekts.\n",
    "    * `⎕SHADOW` erstellt dynamisch eine lokale Variable.\n",
    "* Debugging and Event Trapping: Wird in speziellen Kapiteln (E und M) behandelt.\n",
    "* Calculation Control:\n",
    "    * `⎕CT`, *comparison tolerance*\n",
    "    * `⎕DL`, *delay*, in Sekunden.\n",
    "    * `⎕ML`, *migration level*, beeinflusst das Verhalten gewisser primitiver Funktionen.\n",
    "    * `⎕RL`, *random link*, speichert den Seed für Zufallszahlengeneration.\n",
    "* Character Processing, Input/Output:\n",
    "    * `⎕UCS`, *universal character set*, konvertiert Codepoints in Characters und umgekehrt.\n",
    "    * `⎕NULL` ist eine Nullreferenz.\n",
    "* Miscellaneous:\n",
    "    * `)SH` und `)CMD` führt ein shell- bzw. cmd-Kommando aus."
   ]
  },
  {
   "cell_type": "markdown",
   "metadata": {},
   "source": [
    "## Chapter M: Event Handling\n",
    "\n",
    "* Jedes Event hat einen Zahlencode. Der Code des letzten aufgetretenen Events ist in `⎕EN`, *event number*, gespeichert, die Nachricht, die zu einem Code gehört, kann über `⎕EM`, *event message*, ermittelt werden.\n",
    "* Alternativ verwende die Systemvariable `⎕TRAP` (das auch in dfns funktioniert). Sie soll einen Vektor aus zwei oder drei Elementen beinhalten:\n",
    "    1. Ein Vektor von Eventcodes\n",
    "    2. einen Character mit einem Action Code:\n",
    "        'C' Cutback: Unwinde den Stack bis zu der Funktion, in der die Trap definiert ist. Werte den Ausdruck im dritten Argument aus; dies passiert in dem Scope, in dem die Trap definiert ist. \n",
    "        'E' Execute: Führe den Ausdruck aus, die im dritten Argument genannt ist. Dies passiert in dem Scope, in dem das Event aufgetreten ist.\n",
    "        'N' Next: Leite das Event an die nächstäußere Trap weiter, reraise.\n",
    "        'S' Stop: Ignoriere alle Traps und rufe das Standardhandling des Systems auf (den Runner gewissermaßen).\n",
    "    3. für 'C' und 'E' einen Character Vector, der einen gültigen APL-Ausdruck enthält\n",
    "  \n",
    "  Mehrere dieser Vektoren können auch zu einem nested Vector kombiniert werden.\n",
    "* Die erste Variante kann nur ein einziges Event fangen, aber die zweite beliebig viele, was eine Endlosausführung verursachen kann.\n",
    "* Es wird empfohlen, 'E' nicht zu nutzen und allgemein `⎕TRAP` nur zu verwenden, wenn es unbedingt sein muss.\n",
    "* `{X} ⎕SIGNAL Y` löst Event `Y` mit der Nachricht `X` aus. Eventcodes 500 bis 999 sind für nutzerspezifizierte Events."
   ]
  },
  {
   "cell_type": "code",
   "execution_count": null,
   "metadata": {},
   "outputs": [],
   "source": [
    "⍝ Events fangen via the :Trap structure:\n",
    ":Trap arr ⍝ arr ist ein Array von Fehlercods; 0 steht für alle Codes.\n",
    "    ⍝ Scope der trap\n",
    ":Case 1\n",
    "    ⍝ Wird ausgeführt, wenn ein Event mit ⎕EN 1 auftritt\n",
    ":CaseList 2 3\n",
    "    ⍝ Wird ausgeführt, wenn ein Event mit ⎕EN ∊ 2 3 auftritt\n",
    ":Else\n",
    "    ⍝ Wird ausgeführt, wenn ein sonstiges Event auftritt.\n",
    ":EndTrap"
   ]
  },
  {
   "cell_type": "markdown",
   "metadata": {},
   "source": [
    "## Chapter N: File Processing\n",
    "\n",
    "* Es gibt zwei Arten von Dateien für APL: *Component Files*, die mit Systemfunktionen der Form `⎕FXXX` behandelt werden und als Schnittstelle zum *Component Object Model* (uns somit zu MS Office, MS SQL, Oracle, .NET, …) dienen, sowie *Native Files* mit den Systemfunktionen `⎕NXXX`. Die Funktionen nutzen sogenannte *Ties* – Integers (F-Ties sind positiv, N-Ties negativ) – als Filehandler. Für gemeinsamen Zugriff gibt es *shared Ties*.\n",
    "* Ein Component File wird als nested Array von APL-Entitäten interpretiert.\n",
    "* Data Representation: APL nutzt für Zahlen die kleinstmöglich Anzahl an Bytes (signed); Arrayelemente sind homogen. `⎕DR` gibt Auskunft über die interne Repräsentation eines Wertes (die dyadische Variante interpretiert die Daten um). Nestes Arrays haben eine kompliziertere Repräsentation.\n",
    "* *External Variables* werden mit `⎕XT` erstellt. Dies sind Variable, deren Werte in einer Datei gespeichert werden. Mit `⎕EX` wird eine externe Variable gelöscht (aber die Datei bleibt erhalten). Der Zugriff ist in der Regel exklusiv, im Workspace Utils befindet sich aber eine Funktion `XVAR`, die geteilten Zugriff ermöglicht.\n",
    "* Von der Verwendung externer Variabler wird in der Regel zugunsten von Component Files abgeraten. Diese sind zwar komplexer in der Handhabung, aber schneller und besser zu kontrollieren.\n",
    "* `⎕NGET` und `⎕NPUT` wurden nicht im Buch behandelt (vielleicht wurden sie erst nach Version 12.0 eingführt). Diese beiden Funktionen arbeiten ohne Ties, sondern öffnen und schließen die Datei selbstständig."
   ]
  },
  {
   "cell_type": "markdown",
   "metadata": {},
   "source": [
    "## Chapter O: Namespaces\n",
    "* Namespaces funktionieren wie üblich. Der *Root Namespace* wird mit `#` bezeichnet, das Elter mit `##`.\n",
    "* `⎕NS` hat als rechtes Argument Namen, die in den Namespace kopiert (nicht verschoben) werden sollen. Das linke Argument kann eine Referenz sein, um einen Namespace zu verändern (oder einen benannten Namespace zu erstellen).\n",
    "* Mit `)CS` kann in einen Namespace gewechselt werden (wie in einem Ordnersystem).\n",
    "* Funktionen werden immer in dem Namespace ausgeführt, in dem sie definiert sind. Primitive Funktionen sind in jedem Namespace definiert (ein Ausdruck wie `1 2 3 box.× 4 5 6` ist valide).\n",
    "* `⎕PATH` macht einem Namespace Funktionen und Operatoren anderer Namespaces bekannt.\n",
    "* `.` ist distributiv: `(ns1 ns2).(item1 item2 item3)` hat sechs Elemente (vorausgesetzt, beide Namespaces haben entsprechende Namen definiert).\n",
    "* `⎕DF`, *Display Form*, ändert, wie die Referenz bei einer Ausgabe geprintet wird.\n",
    "* Namespace-REferenzen sind Skalare und können somit auch Teile von Arrays sein."
   ]
  },
  {
   "cell_type": "code",
   "execution_count": 61,
   "metadata": {},
   "outputs": [
    {
     "data": {
      "text/html": [
       "<span style=\"white-space:pre; font-family: monospace\">#.[Namespace]\n",
       "</span>"
      ]
     },
     "execution_count": 61,
     "metadata": {},
     "output_type": "execute_result"
    },
    {
     "data": {
      "text/html": [
       "<span style=\"white-space:pre; font-family: monospace\">#.bag\n",
       "</span>"
      ]
     },
     "execution_count": 61,
     "metadata": {},
     "output_type": "execute_result"
    },
    {
     "data": {
      "text/html": [
       "<span style=\"white-space:pre; font-family: monospace\">bag     box     \n",
       "</span>"
      ]
     },
     "execution_count": 61,
     "metadata": {},
     "output_type": "execute_result"
    }
   ],
   "source": [
    "⍝ Erstelle einen anonymen Namespace und eine Referenz `box`.\n",
    "⊢box←⎕NS ''\n",
    "⍝ Erstelle einen Namespace mit Referenz desselben Namens.\n",
    ")NS bag\n",
    "⍝ Zeige alle Namespace-Referenzen; alternativ `⎕NL 9`.\n",
    ")Obs"
   ]
  },
  {
   "cell_type": "markdown",
   "metadata": {},
   "source": [
    "## Chapter P: Graphical User Interface\n",
    "* Eine GUI besteht aus Objekten (die wie Namespaces funktionieren, das ist vor allem beim Zugriff auf Unterobjekte relevant), die miteienander verknüpft werden. Es gibt folgende Systemfunktionen für GUIs:\n",
    "    * `⎕WC`, *window create*, um neue Objekte und ihre Eigenschaften zu spezifizieren,\n",
    "    * `⎕WS`, *window set*, um  Objekteigenschaften zu ändern,\n",
    "    * `⎕WG`, *window get*, um Eigenschaften auszulesen, und\n",
    "    * `⎕WN`, *window names*, um die Kindobjekte eines Objektes zu erhalten.\n",
    "* Beispiel:"
   ]
  },
  {
   "cell_type": "code",
   "execution_count": 84,
   "metadata": {},
   "outputs": [],
   "source": [
    "∇ CMDesign;Check;Radio\n",
    "    ⍝ Auswahlfelder definieren:\n",
    "    Check←'Style' 'Check'\n",
    "    Radio←'Style' 'Radio'\n",
    "    ⍝ Das Fenster erstellen (die Größe ist in Pixeln):\n",
    "    :With 'Drinks'⎕WC'Form' 'Coffee Machine'('Size' 250 330)\n",
    "        ⍝ Das Fenster hat zwei Buttons:\n",
    "        ⍝ Das linke Argument ist der Name des Objekts\n",
    "        ⍝ Die rechten Argumente sind: Elementtyp, Beschriftung, Position, Größe, Events\n",
    "        'bout'⎕WC'Button' 'Quit'(10 20)(25 60)('Event' 'Select' 1) ⍝ 1 beendet die Sperre durch ⎕DQ\n",
    "        'bsel'⎕WC'Button' 'Select'(10 100)(25 210)('Event' 'Select' '#.CMReport')\n",
    "        ⍝ Eine Gruppe mit Buttons:\n",
    "        :With 'Hot'⎕WC'Group' 'Hot Drinks'(55 20)(180 130)\n",
    "            'B1'⎕WC'Button' 'Coffee'(25 15)Radio\n",
    "            'B2'⎕WC'Button' 'Tea'(50 15)Radio\n",
    "            'B3'⎕WC'Button' 'Chocolate'(75 15)Radio\n",
    "            'B4'⎕WC'Button' 'More sugar'(130 15)Check\n",
    "            'B5'⎕WC'Button' 'Add milk'(150 15)Check\n",
    "        :EndWith\n",
    "        ⍝ Eine zweite Gruppe:\n",
    "        :With 'Cold'⎕WC'Group' 'Cold Drinks'(55 180)(180 130)\n",
    "            'B1'⎕WC'Button' 'Guarana'(25 15)Radio\n",
    "            'B2'⎕WC'Button' 'Orange juice'(50 15)Radio\n",
    "            'B3'⎕WC'Button' 'Tomato juice'(75 15)Radio\n",
    "            'B4'⎕WC'Button' 'With ice'(150 15)Check\n",
    "        :EndWith\n",
    "    :EndWith\n",
    "∇"
   ]
  },
  {
   "cell_type": "code",
   "execution_count": 69,
   "metadata": {},
   "outputs": [],
   "source": [
    "⍝ # beschreibt das Root-Objekt; wir legen Pixel als Standardeinheit fest,\n",
    "⍝ damit die Funktion wie gewünscht arbeitet.\n",
    "'#' ⎕WS 'Coord' 'Pixel'\n",
    "CMDesign"
   ]
  },
  {
   "cell_type": "code",
   "execution_count": 70,
   "metadata": {},
   "outputs": [
    {
     "data": {
      "text/html": [
       "<span style=\"white-space:pre; font-family: monospace\">0 0 1 0 1\n",
       "</span>"
      ]
     },
     "execution_count": 70,
     "metadata": {},
     "output_type": "execute_result"
    },
    {
     "data": {
      "text/html": [
       "<span style=\"white-space:pre; font-family: monospace\">0 1 0 1\n",
       "</span>"
      ]
     },
     "execution_count": 70,
     "metadata": {},
     "output_type": "execute_result"
    }
   ],
   "source": [
    "⍝ Daten auslesen, nachdem Optionen im Fenster gewählt wurden:\n",
    "(⎕WN 'Drinks.Hot') ⎕WG¨⊂'State' ⍝ State von hot drinks\n",
    "Drinks.Cold.(B1 B2 B3 B4).State ⍝ State von cold drinks"
   ]
  },
  {
   "cell_type": "code",
   "execution_count": 71,
   "metadata": {},
   "outputs": [],
   "source": [
    "⍝ Daten ändern:\n",
    "Drinks.Hot.B2 ⎕WS 'State' 1\n",
    "Drinks.Cold.B4.State ← 0"
   ]
  },
  {
   "cell_type": "markdown",
   "metadata": {},
   "source": [
    "`⎕DQ`, *de-queue*, managt Events. Sie fängt Eingaben ab und leitet sie an ein GUI-Objekt weiter. Call-Back-Funktionen werden genutzt, um auf Events zu reagieren."
   ]
  },
  {
   "cell_type": "code",
   "execution_count": 76,
   "metadata": {},
   "outputs": [],
   "source": [
    "∇ CMReport;hotbin;coldbin;coldsel;hotsel;choice;Report\n",
    "    hotbin←Drinks.Hot.(B1 B2 B3 B4 B5).State\n",
    "    coldbin←Drinks.Cold.(B1 B2 B3 B4).State\n",
    "    hotsel←hotbin/HotCaps\n",
    "    coldsel←coldbin/ColdCaps\n",
    "    choice←↑(⊂'Hot drinks:'),hotsel,(' ' 'Cold drinks:'),coldsel\n",
    "    'Report'⎕WC'MsgBox' 'Your current choice is'choice\n",
    "    ⎕DQ'Report'\n",
    "∇"
   ]
  },
  {
   "cell_type": "code",
   "execution_count": 86,
   "metadata": {},
   "outputs": [],
   "source": [
    "∇ CMUse;Drinks;HotCaps;ColdCaps\n",
    "    HotCaps←'Coffee' 'Tea' 'Chocolate' 'More sugar' 'Add milk'\n",
    "    ColdCaps←'Guarana' 'Orange juice' 'Tomato juice' 'With ice'\n",
    "    CMDesign\n",
    "    DISPLAY ⎕DQ'Drinks'\n",
    "∇      "
   ]
  },
  {
   "cell_type": "code",
   "execution_count": 87,
   "metadata": {},
   "outputs": [
    {
     "data": {
      "text/html": [
       "<span style=\"white-space:pre; font-family: monospace\">C:\\Program Files\\Dyalog\\Dyalog APL-64 18.0 Unicode\\ws\\DISPLAY.dws saved Wed Jul 15 21:03:16 2020\n",
       "</span>"
      ]
     },
     "execution_count": 87,
     "metadata": {},
     "output_type": "execute_result"
    },
    {
     "data": {
      "text/html": [
       "<span style=\"white-space:pre; font-family: monospace\">┌→───────────────────────┐\n",
       "│ ┌→──────────┐ ┌→─────┐ │\n",
       "│ │Drinks.bout│ │Select│ │\n",
       "│ └───────────┘ └──────┘ │\n",
       "└∊───────────────────────┘\n",
       "</span>"
      ]
     },
     "execution_count": 87,
     "metadata": {},
     "output_type": "execute_result"
    }
   ],
   "source": [
    ")copy DISPLAY\n",
    "CMUse"
   ]
  },
  {
   "cell_type": "markdown",
   "metadata": {},
   "source": [
    "Das rechte Argument einer Call-Back-Funktion ist immer eine von der APL-Laufzeit gegebene *Event Message*, mit der Informationen über das Event an die Funktion weitergeleitet werden können.\n",
    "\n",
    "Die weiteren Punkte in diesem Kapitel gehen sehr viel mehr ins Detail als ich sinnvoll finde aufzuschreiben. Deswegen beschränke ich mich im Folgenden auf einige wenige interessante Punkte:\n",
    "* Es gibt noch eine ganze Reihe weiterer Arten von Objekten:\n",
    "    * Passwortfelder\n",
    "    * Auswahllisten\n",
    "    * Drop-Down-Listen\n",
    "    * Drucker-Auswahl\n",
    "    * Dateibrowser\n",
    "    * Progress-Bar\n",
    "    * Mouseover-Popup\n",
    "    * Fav-Icon und Fenstertitel\n",
    "    * Fensterrahmen und -hintergrund\n",
    "    * Menüs\n",
    "    * Grid, mit dem eine Art Tabellenkalkulation erzeugt werden kann\n",
    "* Man kann weitere Properties einstellen, wie zum Beispiel:\n",
    "    * Farben\n",
    "    * Fonts\n",
    "    * Cursor-Erscheinungsbild\n",
    "* Events können mittels `⎕NQ`, *en-queue* simuliert werden.\n",
    "* Gewisse Klassen von Objekten haben vordefinierte Methoden."
   ]
  },
  {
   "cell_type": "markdown",
   "metadata": {},
   "source": [
    "## Chapter Q: Interfaces\n",
    "\n",
    "* Gelegentlich ist Interaktion mit anderen Programmen oder Sprachen nötig. Dazu gibt es:\n",
    "    * das OLE-Protokoll von Microsoft\n",
    "    * `⎕NA`, *name association*, das ein externes Programm als Funktion auffasst.\n",
    "    * .NET-Schnittstellen\n",
    "* Interaktion mit Excel ist zum Beispiel über OLE möglich; APL arbeitet dann auf einem Namespace, der die Excel-Datei repräsentiert und auch über Methoden verfügt. Wie dies geht, wird im Buch ausführlich beschrieben, aber ich denke, dass das für mich (zumindest im Moment) nicht relevant genug ist, festzuhalten.\n",
    "* `⎕NA` erhält als linkes Argument einen String mit den Angaben Rückgabetyp, Pfad/Name der DLL, '|', Name der Funktion, die in der DLL definiert ist, Argumenttypen. Das linke Argument ist der Name, mit dem APL die Funktion ansprechen soll. Beispiel (aus dem Buch): `'MyPrecious' ⎕NA 'F8 Tolkien|Hobbit I4 F8'` lädt die Funktion `Hobbit` aus der DLL `Tolkien.dll`, welche einen i32 (`I4`) und einen f64 (`F8`) nimmt und einen f64 zurückgibt, und bindet sie an den Namen `MyPrecious`.\n",
    "* Die Funktion gibt einen Vector aus Rückgabewert und allen speziell markierten Argumenten zurück (falls diese von der DLL-Funktion als Nebeneffekt verändert werden) \n",
    "* Der Typ setzt sich zusammen aus\n",
    "    * einer Direction `>`, `<`, `=` für Pointer, die gelesen, beschrieben und beides werden können\n",
    "    * einem Special, `0` für einen 0-terminated String, `#` für einen Byte-counted String\n",
    "    * dem eigentlichen Datentyp (`I` int, `U` uint, `F` float, `C` untranslated char, `T` char, `A` Array); dies ist das einzige nicht-optionale Feld,\n",
    "    * einer Width (1, 2, 4 oder 8),\n",
    "    * für Arrays eine Dimensionsangabe"
   ]
  },
  {
   "cell_type": "markdown",
   "metadata": {},
   "source": [
    "# Chapter R: SALT\n",
    "* SALT ist ein Source Code Managment System. Idee ist, Namen und ihre Definitionen aus einem Workspace in eine Textdatei zu exportieren. Dies ermöglicht, APL in einem Texteditor zu schreiben oder bearbeiten und bei Bedarf in einen Workspace zu laden.\n",
    "* Diese Dateien können Metadaten wie Versionsnummern haben.\n",
    "* Die Schnittstelle zu diesen Dateien (der Form `<name>.<version>.dyalog`) ist über `⎕SE` gegeben.\n",
    "* SALT erkennt Änderungen an geladenen Dateien automatisch. Werden die Änderungen gespeichert, inkrementiert SALT die Versionsnummer selbstständig.\n",
    "* Fazit: Nutze einfach Git."
   ]
  },
  {
   "cell_type": "markdown",
   "metadata": {},
   "source": [
    "## Chapter S: Publishing Tools\n",
    "* Es gibt zwei Tools als Teil von Dyalog, um Publikationen zu vereinfachen.\n",
    "    * NewLeaf für zu druckende Dokumente\n",
    "    * RainPro für Graphen\n",
    "* Dies wird vermutlich auch erst interessant, wenn ich tatsächlich einmal etwas aufwendig setzen möchte und durch ein Wunder kein $LaTeX$ und keine `matplotlib` zur Verfügung habe."
   ]
  }
 ],
 "metadata": {
  "kernelspec": {
   "display_name": "Dyalog APL",
   "language": "apl",
   "name": "dyalog-kernel"
  },
  "language_info": {
   "file_extension": ".apl",
   "mimetype": "text/apl",
   "name": "APL"
  }
 },
 "nbformat": 4,
 "nbformat_minor": 2
}
